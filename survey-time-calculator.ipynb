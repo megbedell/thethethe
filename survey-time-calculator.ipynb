{
 "cells": [
  {
   "cell_type": "code",
   "execution_count": 1,
   "metadata": {},
   "outputs": [],
   "source": [
    "import numpy as np\n",
    "import matplotlib.pyplot as plt\n",
    "np.random.seed(42)"
   ]
  },
  {
   "cell_type": "code",
   "execution_count": 2,
   "metadata": {},
   "outputs": [],
   "source": [
    "targets = np.genfromtxt('gaia-no-brewer-northern.csv', delimiter=',', names=True, dtype=None, encoding=None)"
   ]
  },
  {
   "cell_type": "code",
   "execution_count": 3,
   "metadata": {},
   "outputs": [],
   "source": [
    "vmags = targets['Gmag'] + 0.5"
   ]
  },
  {
   "cell_type": "code",
   "execution_count": 4,
   "metadata": {},
   "outputs": [
    {
     "data": {
      "image/png": "[encoded data removed]",
      "text/plain": [
       "<Figure size 432x288 with 1 Axes>"
      ]
     },
     "metadata": {
      "needs_background": "light"
     },
     "output_type": "display_data"
    }
   ],
   "source": [
    "plt.hist(vmags, bins=20)\n",
    "plt.xlabel('V mag');"
   ]
  },
  {
   "cell_type": "markdown",
   "metadata": {},
   "source": [
    "Calculate a scaling factor on the exposure time.\n",
    "We use the fact that the flux of a star with magnitude $8$ compared to a star of magnitude $x$ is a factor of $10^{0.4(x - 8)}$ brighter:"
   ]
  },
  {
   "cell_type": "code",
   "execution_count": 5,
   "metadata": {},
   "outputs": [
    {
     "data": {
      "image/png": "[encoded data removed]",
      "text/plain": [
       "<Figure size 432x288 with 1 Axes>"
      ]
     },
     "metadata": {
      "needs_background": "light"
     },
     "output_type": "display_data"
    }
   ],
   "source": [
    "flux_scaling = 10.**(0.4 * (vmags - 8.0))\n",
    "plt.hist(flux_scaling, bins=20);"
   ]
  },
  {
   "cell_type": "markdown",
   "metadata": {},
   "source": [
    "Because all the stars in our sample are brighter than $V = 8$ by construction, they will all require some fraction $<1$ of the time it would take to observe a star of exactly $V = 8$."
   ]
  },
  {
   "cell_type": "markdown",
   "metadata": {},
   "source": [
    "Plus the standard stars to be observed by all instruments (these are selected to be bright so they'll be quick):"
   ]
  },
  {
   "cell_type": "code",
   "execution_count": 6,
   "metadata": {},
   "outputs": [],
   "source": [
    "standards = np.genfromtxt('gaia-brewer-overlap-standards.csv', delimiter=',', names=True, dtype=None, encoding=None)"
   ]
  },
  {
   "cell_type": "code",
   "execution_count": 7,
   "metadata": {},
   "outputs": [],
   "source": [
    "flux_scaling_standards = 10.**(0.4 * (standards['Gmag'] + 0.5 - 8.0))"
   ]
  },
  {
   "cell_type": "code",
   "execution_count": 8,
   "metadata": {},
   "outputs": [
    {
     "data": {
      "image/png": "[encoded data removed]",
      "text/plain": [
       "<Figure size 432x288 with 1 Axes>"
      ]
     },
     "metadata": {
      "needs_background": "light"
     },
     "output_type": "display_data"
    }
   ],
   "source": [
    "flux_scaling = 10.**(0.4 * (vmags - 8.0))\n",
    "plt.hist(flux_scaling, bins=20, alpha=0.8)\n",
    "plt.hist(flux_scaling_standards, bins=2, alpha=0.8);"
   ]
  },
  {
   "cell_type": "markdown",
   "metadata": {},
   "source": [
    "#### FIES time:"
   ]
  },
  {
   "cell_type": "markdown",
   "metadata": {},
   "source": [
    "Select a randomized subset of 1/3rd of the target list:"
   ]
  },
  {
   "cell_type": "code",
   "execution_count": 9,
   "metadata": {},
   "outputs": [],
   "source": [
    "np.random.shuffle(flux_scaling)\n",
    "N = len(targets)\n",
    "subset = flux_scaling[0:int(N/3)]"
   ]
  },
  {
   "cell_type": "code",
   "execution_count": 10,
   "metadata": {},
   "outputs": [],
   "source": [
    "subset = np.append(subset, subset) # we want two observations per star so double the list\n",
    "subset = np.append(subset, flux_scaling_standards) # just one obs of each standard star"
   ]
  },
  {
   "cell_type": "markdown",
   "metadata": {},
   "source": [
    "Calculate the required integration time:"
   ]
  },
  {
   "cell_type": "code",
   "execution_count": 11,
   "metadata": {},
   "outputs": [],
   "source": [
    "v8_exptime = 30. * 60. # seconds to get to SNR ~ 200 at 600nm for V=8\n",
    "total_exptime = np.sum(v8_exptime * subset)"
   ]
  },
  {
   "cell_type": "markdown",
   "metadata": {},
   "source": [
    "Add on overheads for readout + slew:"
   ]
  },
  {
   "cell_type": "code",
   "execution_count": 12,
   "metadata": {},
   "outputs": [],
   "source": [
    "readout_time = 150. # CHECK THIS\n",
    "slew_time = 120. # ???\n",
    "total_time = total_exptime + len(subset) * (readout_time + slew_time)"
   ]
  },
  {
   "cell_type": "code",
   "execution_count": 13,
   "metadata": {},
   "outputs": [
    {
     "name": "stdout",
     "output_type": "stream",
     "text": [
      "time required is 78.74 hours or 9.8 8-hour nights\n"
     ]
    }
   ],
   "source": [
    "print(\"time required is {0:.2f} hours or {1:.1f} 8-hour nights\".format(total_time/3600., total_time/3600./8.))"
   ]
  },
  {
   "cell_type": "markdown",
   "metadata": {},
   "source": [
    "#### HARPS-N time:"
   ]
  },
  {
   "cell_type": "code",
   "execution_count": 14,
   "metadata": {},
   "outputs": [],
   "source": [
    "subset = flux_scaling[int(N/3):2*int(N/3)]\n",
    "subset = np.append(subset, subset) # we want two observations per star so double the list\n",
    "subset = np.append(subset, flux_scaling_standards)"
   ]
  },
  {
   "cell_type": "code",
   "execution_count": 15,
   "metadata": {},
   "outputs": [],
   "source": [
    "v8_exptime = 15. * 60. # seconds to get to SNR ~ 200 at 600nm for V=8\n",
    "total_exptime = np.sum(v8_exptime * subset)"
   ]
  },
  {
   "cell_type": "code",
   "execution_count": 16,
   "metadata": {},
   "outputs": [],
   "source": [
    "readout_time = 150.\n",
    "slew_time = 120. # ???\n",
    "total_time = total_exptime + len(subset) * (readout_time + slew_time)"
   ]
  },
  {
   "cell_type": "code",
   "execution_count": 17,
   "metadata": {},
   "outputs": [
    {
     "name": "stdout",
     "output_type": "stream",
     "text": [
      "time required is 47.44 hours or 5.9 8-hour nights\n"
     ]
    }
   ],
   "source": [
    "print(\"time required is {0:.2f} hours or {1:.1f} 8-hour nights\".format(total_time/3600., total_time/3600./8.))"
   ]
  },
  {
   "cell_type": "markdown",
   "metadata": {},
   "source": [
    "#### HERMES time:"
   ]
  },
  {
   "cell_type": "markdown",
   "metadata": {},
   "source": [
    "(Note that due to rounding in the 1/3rd sample, HERMES might get 1-2 more targets than the other spectrographs)"
   ]
  },
  {
   "cell_type": "code",
   "execution_count": 18,
   "metadata": {},
   "outputs": [],
   "source": [
    "subset = flux_scaling[2*int(N/3):]\n",
    "subset = np.append(subset, subset) # we want two observations per star so double the list\n",
    "subset = np.append(subset, flux_scaling_standards)"
   ]
  },
  {
   "cell_type": "code",
   "execution_count": 19,
   "metadata": {},
   "outputs": [],
   "source": [
    "v8_exptime = 25. * 60. # seconds to get to SNR ~ 200 at 600nm for V=8\n",
    "total_exptime = np.sum(v8_exptime * subset)"
   ]
  },
  {
   "cell_type": "code",
   "execution_count": 20,
   "metadata": {},
   "outputs": [],
   "source": [
    "readout_time = 150. # CHECK THIS\n",
    "slew_time = 120. # ???\n",
    "total_time = total_exptime + len(subset) * (readout_time + slew_time)"
   ]
  },
  {
   "cell_type": "code",
   "execution_count": 21,
   "metadata": {},
   "outputs": [
    {
     "name": "stdout",
     "output_type": "stream",
     "text": [
      "time required is 67.49 hours or 8.4 8-hour nights\n"
     ]
    }
   ],
   "source": [
    "print(\"time required is {0:.2f} hours or {1:.1f} 8-hour nights\".format(total_time/3600., total_time/3600./8.))"
   ]
  }
 ],
 "metadata": {
  "kernelspec": {
   "display_name": "Python 3",
   "language": "python",
   "name": "python3"
  },
  "language_info": {
   "codemirror_mode": {
    "name": "ipython",
    "version": 3
   },
   "file_extension": ".py",
   "mimetype": "text/x-python",
   "name": "python",
   "nbconvert_exporter": "python",
   "pygments_lexer": "ipython3",
   "version": "3.6.7"
  }
 },
 "nbformat": 4,
 "nbformat_minor": 4
}
