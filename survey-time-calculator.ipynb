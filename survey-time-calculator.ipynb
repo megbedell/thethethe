{
 "cells": [
  {
   "cell_type": "code",
   "execution_count": 1,
   "metadata": {},
   "outputs": [],
   "source": [
    "import numpy as np\n",
    "import matplotlib.pyplot as plt\n",
    "np.random.seed(42)"
   ]
  },
  {
   "cell_type": "code",
   "execution_count": 2,
   "metadata": {},
   "outputs": [],
   "source": [
    "targets = np.genfromtxt('gaia-no-brewer-northern.csv', delimiter=',', names=True, dtype=None, encoding=None)"
   ]
  },
  {
   "cell_type": "code",
   "execution_count": 98,
   "metadata": {},
   "outputs": [
    {
     "data": {
      "image/png": "[encoded data removed]",
      "text/plain": [
       "<Figure size 432x288 with 1 Axes>"
      ]
     },
     "metadata": {
      "needs_background": "light"
     },
     "output_type": "display_data"
    }
   ],
   "source": [
    "plt.hist(targets['DEJ2000'], bins=20)\n",
    "plt.xlabel('Dec');"
   ]
  },
  {
   "cell_type": "code",
   "execution_count": 3,
   "metadata": {},
   "outputs": [
    {
     "data": {
      "image/png": "[encoded data removed]",
      "text/plain": [
       "<Figure size 432x288 with 1 Axes>"
      ]
     },
     "metadata": {
      "needs_background": "light"
     },
     "output_type": "display_data"
    }
   ],
   "source": [
    "plt.hist(targets['RAJ2000'], bins=20)\n",
    "plt.xlabel('RA');"
   ]
  },
  {
   "cell_type": "markdown",
   "metadata": {},
   "source": [
    "Distribution is fairly even so I'm going to ignore semester constraints right now."
   ]
  },
  {
   "cell_type": "code",
   "execution_count": 4,
   "metadata": {},
   "outputs": [],
   "source": [
    "vmags = targets['Gmag'] + 0.5 # this is a hack but Annelies's detailed comparison validates it"
   ]
  },
  {
   "cell_type": "code",
   "execution_count": 5,
   "metadata": {},
   "outputs": [
    {
     "data": {
      "image/png": "[encoded data removed]",
      "text/plain": [
       "<Figure size 432x288 with 1 Axes>"
      ]
     },
     "metadata": {
      "needs_background": "light"
     },
     "output_type": "display_data"
    }
   ],
   "source": [
    "plt.hist(vmags, bins=20)\n",
    "plt.xlabel('V mag');"
   ]
  },
  {
   "cell_type": "markdown",
   "metadata": {},
   "source": [
    "Calculate a scaling factor on the exposure time.\n",
    "We use the fact that the flux of a star with magnitude $V = 8$ compared to a star of magnitude $m_V$ is a factor of $10^{0.4(m_V - 8)}$ brighter:"
   ]
  },
  {
   "cell_type": "code",
   "execution_count": 6,
   "metadata": {},
   "outputs": [
    {
     "data": {
      "image/png": "[encoded data removed]",
      "text/plain": [
       "<Figure size 432x288 with 1 Axes>"
      ]
     },
     "metadata": {
      "needs_background": "light"
     },
     "output_type": "display_data"
    }
   ],
   "source": [
    "flux_scaling = 10.**(0.4 * (vmags - 8.0))\n",
    "plt.hist(flux_scaling, bins=20);"
   ]
  },
  {
   "cell_type": "markdown",
   "metadata": {},
   "source": [
    "Because all the stars in our sample are brighter than $V = 8$ by construction, they will all require some fraction $<1$ of the time it would take to observe a star of exactly $V = 8$."
   ]
  },
  {
   "cell_type": "markdown",
   "metadata": {},
   "source": [
    "Plus the standard stars to be observed by all instruments (these are selected to be bright so they'll be quick):"
   ]
  },
  {
   "cell_type": "code",
   "execution_count": 7,
   "metadata": {},
   "outputs": [],
   "source": [
    "standards = np.genfromtxt('gaia-brewer-overlap-standards.csv', delimiter=',', names=True, dtype=None, encoding=None)"
   ]
  },
  {
   "cell_type": "code",
   "execution_count": 8,
   "metadata": {},
   "outputs": [],
   "source": [
    "flux_scaling_standards = 10.**(0.4 * (standards['Gmag'] + 0.5 - 8.0))"
   ]
  },
  {
   "cell_type": "code",
   "execution_count": 9,
   "metadata": {},
   "outputs": [
    {
     "data": {
      "image/png": "[encoded data removed]",
      "text/plain": [
       "<Figure size 432x288 with 1 Axes>"
      ]
     },
     "metadata": {
      "needs_background": "light"
     },
     "output_type": "display_data"
    }
   ],
   "source": [
    "flux_scaling = 10.**(0.4 * (vmags - 8.0))\n",
    "plt.hist(flux_scaling, bins=20, alpha=0.8)\n",
    "plt.hist(flux_scaling_standards, bins=2, alpha=0.8);"
   ]
  },
  {
   "cell_type": "markdown",
   "metadata": {},
   "source": [
    "#### FIES time:"
   ]
  },
  {
   "cell_type": "markdown",
   "metadata": {},
   "source": [
    "Select a randomized subset of 1/3rd of the target list:"
   ]
  },
  {
   "cell_type": "code",
   "execution_count": 49,
   "metadata": {},
   "outputs": [],
   "source": [
    "np.random.shuffle(flux_scaling)\n",
    "N = len(targets)\n",
    "subset = flux_scaling[0:int(N/3)]"
   ]
  },
  {
   "cell_type": "code",
   "execution_count": 50,
   "metadata": {},
   "outputs": [],
   "source": [
    "subset = np.append(subset, subset) # we want two observations per star so double the list\n",
    "subset = np.append(subset, flux_scaling_standards) # just one obs of each standard star"
   ]
  },
  {
   "cell_type": "markdown",
   "metadata": {},
   "source": [
    "Calculate the required integration time:"
   ]
  },
  {
   "cell_type": "code",
   "execution_count": 51,
   "metadata": {},
   "outputs": [],
   "source": [
    "v8_exptime = 30. * 60. # seconds to get to SNR ~ 200 at 600nm for V=8\n",
    "total_exptime = np.sum(v8_exptime * subset)"
   ]
  },
  {
   "cell_type": "markdown",
   "metadata": {},
   "source": [
    "Add on overheads for readout + slew:"
   ]
  },
  {
   "cell_type": "code",
   "execution_count": 52,
   "metadata": {},
   "outputs": [],
   "source": [
    "readout_time = 90.\n",
    "slew_time = 120. # ???\n",
    "total_time = total_exptime + len(subset) * (readout_time + slew_time)"
   ]
  },
  {
   "cell_type": "code",
   "execution_count": 53,
   "metadata": {},
   "outputs": [
    {
     "name": "stdout",
     "output_type": "stream",
     "text": [
      "time required is 78.41 hours or 9.8 8-hour nights\n"
     ]
    }
   ],
   "source": [
    "print(\"time required is {0:.2f} hours or {1:.1f} 8-hour nights\".format(total_time/3600., total_time/3600./8.))"
   ]
  },
  {
   "cell_type": "markdown",
   "metadata": {},
   "source": [
    "#### HARPS-N time:"
   ]
  },
  {
   "cell_type": "code",
   "execution_count": 54,
   "metadata": {},
   "outputs": [],
   "source": [
    "subset = flux_scaling[int(N/3):2*int(N/3)]\n",
    "subset = np.append(subset, subset) # we want two observations per star so double the list\n",
    "subset = np.append(subset, flux_scaling_standards)"
   ]
  },
  {
   "cell_type": "code",
   "execution_count": 55,
   "metadata": {},
   "outputs": [],
   "source": [
    "v8_exptime = 15. * 60. # seconds to get to SNR ~ 200 at 600nm for V=8\n",
    "total_exptime = np.sum(v8_exptime * subset)"
   ]
  },
  {
   "cell_type": "code",
   "execution_count": 56,
   "metadata": {},
   "outputs": [],
   "source": [
    "readout_time = 150.\n",
    "slew_time = 120. # ???\n",
    "total_time = total_exptime + len(subset) * (readout_time + slew_time)"
   ]
  },
  {
   "cell_type": "code",
   "execution_count": 57,
   "metadata": {},
   "outputs": [
    {
     "name": "stdout",
     "output_type": "stream",
     "text": [
      "time required is 46.11 hours or 5.8 8-hour nights\n"
     ]
    }
   ],
   "source": [
    "print(\"time required is {0:.2f} hours or {1:.1f} 8-hour nights\".format(total_time/3600., total_time/3600./8.))"
   ]
  },
  {
   "cell_type": "markdown",
   "metadata": {},
   "source": [
    "#### HERMES time:"
   ]
  },
  {
   "cell_type": "markdown",
   "metadata": {},
   "source": [
    "(Note that due to rounding in the 1/3rd sample, HERMES might get 1-2 more targets than the other spectrographs)"
   ]
  },
  {
   "cell_type": "code",
   "execution_count": 58,
   "metadata": {},
   "outputs": [],
   "source": [
    "subset = flux_scaling[2*int(N/3):]\n",
    "subset = np.append(subset, subset) # we want two observations per star so double the list\n",
    "subset = np.append(subset, flux_scaling_standards)"
   ]
  },
  {
   "cell_type": "code",
   "execution_count": 59,
   "metadata": {},
   "outputs": [],
   "source": [
    "v8_exptime = 25. * 60. # seconds to get to SNR ~ 200 at 600nm for V=8\n",
    "total_exptime = np.sum(v8_exptime * subset)"
   ]
  },
  {
   "cell_type": "code",
   "execution_count": 60,
   "metadata": {},
   "outputs": [],
   "source": [
    "readout_time = 150. # CHECK THIS\n",
    "slew_time = 120. # ???\n",
    "total_time = total_exptime + len(subset) * (readout_time + slew_time)"
   ]
  },
  {
   "cell_type": "code",
   "execution_count": 61,
   "metadata": {},
   "outputs": [
    {
     "name": "stdout",
     "output_type": "stream",
     "text": [
      "time required is 67.25 hours or 8.4 8-hour nights\n"
     ]
    }
   ],
   "source": [
    "print(\"time required is {0:.2f} hours or {1:.1f} 8-hour nights\".format(total_time/3600., total_time/3600./8.))"
   ]
  },
  {
   "cell_type": "markdown",
   "metadata": {},
   "source": [
    "We should *round up* on HERMES time because it needs middle-of-night calibrations (advised by instrument team)."
   ]
  },
  {
   "cell_type": "markdown",
   "metadata": {},
   "source": [
    "##### Note: you can double-check the stability of the calculations by re-running all cells from the \"FIES time\" section down. This will shuffle the targets to different instruments.\n",
    "The conclusions remain quite stable to within an hour or two."
   ]
  },
  {
   "cell_type": "markdown",
   "metadata": {},
   "source": [
    "#### HIRES:"
   ]
  },
  {
   "cell_type": "code",
   "execution_count": 71,
   "metadata": {},
   "outputs": [
    {
     "data": {
      "image/png": "[encoded data removed]",
      "text/plain": [
       "<Figure size 432x288 with 1 Axes>"
      ]
     },
     "metadata": {
      "needs_background": "light"
     },
     "output_type": "display_data"
    }
   ],
   "source": [
    "plt.hist(targets['DEJ2000']);"
   ]
  },
  {
   "cell_type": "code",
   "execution_count": 93,
   "metadata": {},
   "outputs": [],
   "source": [
    "#subset = np.copy(flux_scaling) # all the stars\n",
    "subset = flux_scaling[(targets['DEJ2000'] >= 15.) & (targets['DEJ2000'] <= 60.)]"
   ]
  },
  {
   "cell_type": "code",
   "execution_count": 94,
   "metadata": {},
   "outputs": [],
   "source": [
    "subset = np.append(subset, subset) # we want two observations per star so double the list\n",
    "subset = np.append(subset, flux_scaling_standards)"
   ]
  },
  {
   "cell_type": "code",
   "execution_count": 95,
   "metadata": {},
   "outputs": [],
   "source": [
    "v8_exptime = 10. * 60. # seconds to get to SNR ~ 200 at 600nm for V=8 - CHECK THIS\n",
    "total_exptime = np.sum(v8_exptime * subset)"
   ]
  },
  {
   "cell_type": "code",
   "execution_count": 96,
   "metadata": {},
   "outputs": [],
   "source": [
    "readout_time = 150. # CHECK THIS\n",
    "slew_time = 120. # ???\n",
    "total_time = total_exptime + len(subset) * (readout_time + slew_time)"
   ]
  },
  {
   "cell_type": "code",
   "execution_count": 97,
   "metadata": {},
   "outputs": [
    {
     "name": "stdout",
     "output_type": "stream",
     "text": [
      "time required is 64.42 hours or 8.1 8-hour nights\n"
     ]
    }
   ],
   "source": [
    "print(\"time required is {0:.2f} hours or {1:.1f} 8-hour nights\".format(total_time/3600., total_time/3600./8.))"
   ]
  },
  {
   "cell_type": "markdown",
   "metadata": {},
   "source": [
    "can this be done in full-night increments?"
   ]
  },
  {
   "cell_type": "code",
   "execution_count": null,
   "metadata": {},
   "outputs": [],
   "source": []
  },
  {
   "cell_type": "markdown",
   "metadata": {},
   "source": [
    "#### southern stars:"
   ]
  },
  {
   "cell_type": "code",
   "execution_count": 99,
   "metadata": {},
   "outputs": [],
   "source": [
    "targets_s = np.genfromtxt('gaia-no-brewer.csv', delimiter=',', names=True, dtype=None, encoding=None)\n",
    "targets_s = targets_s[targets_s['DEJ2000'] < 0.]"
   ]
  },
  {
   "cell_type": "code",
   "execution_count": 100,
   "metadata": {},
   "outputs": [
    {
     "data": {
      "image/png": "[encoded data removed]",
      "text/plain": [
       "<Figure size 432x288 with 1 Axes>"
      ]
     },
     "metadata": {
      "needs_background": "light"
     },
     "output_type": "display_data"
    }
   ],
   "source": [
    "plt.hist(targets_s['DEJ2000'], bins=20)\n",
    "plt.xlabel('Dec');"
   ]
  },
  {
   "cell_type": "code",
   "execution_count": 112,
   "metadata": {},
   "outputs": [],
   "source": [
    "eso = np.genfromtxt('gaia-no-brewer-southern-eso.csv', delimiter=',', dtype=None, encoding=None, skip_header=1, skip_footer=207, names=True)"
   ]
  },
  {
   "cell_type": "code",
   "execution_count": 120,
   "metadata": {},
   "outputs": [
    {
     "name": "stdout",
     "output_type": "stream",
     "text": [
      "40 of the 97 targets below 0 declination have been observed by HARPS or UVES\n"
     ]
    }
   ],
   "source": [
    "already_observed_mask = np.isin(targets_s['DR2Name'], eso['Uploaded_file_input_value'])\n",
    "print('{0} of the {1} targets below 0 declination have been observed by HARPS or UVES'.format(sum(already_observed_mask), len(targets_s)))"
   ]
  },
  {
   "cell_type": "code",
   "execution_count": 121,
   "metadata": {},
   "outputs": [
    {
     "data": {
      "image/png": "[encoded data removed]",
      "text/plain": [
       "<Figure size 432x288 with 1 Axes>"
      ]
     },
     "metadata": {
      "needs_background": "light"
     },
     "output_type": "display_data"
    }
   ],
   "source": [
    "targets = targets_s[already_observed_mask]\n",
    "vmags = targets['Gmag'] + 0.5 # this is a hack but Annelies's detailed comparison validates it\n",
    "flux_scaling = 10.**(0.4 * (vmags - 8.0))\n",
    "plt.hist(flux_scaling, bins=20);"
   ]
  },
  {
   "cell_type": "code",
   "execution_count": null,
   "metadata": {},
   "outputs": [],
   "source": [
    "subset = np.append(flux_scaling, flux_scaling) # two observations per star"
   ]
  },
  {
   "cell_type": "code",
   "execution_count": 125,
   "metadata": {},
   "outputs": [],
   "source": [
    "v8_exptime = 15. * 60. # seconds to get to SNR ~ 200 at 600nm for V=8\n",
    "total_exptime = np.sum(v8_exptime * subset)"
   ]
  },
  {
   "cell_type": "code",
   "execution_count": 126,
   "metadata": {},
   "outputs": [],
   "source": [
    "readout_time = 150.\n",
    "slew_time = 120. # ???\n",
    "total_time = total_exptime + len(subset) * (readout_time + slew_time)"
   ]
  },
  {
   "cell_type": "code",
   "execution_count": 127,
   "metadata": {},
   "outputs": [
    {
     "name": "stdout",
     "output_type": "stream",
     "text": [
      "time required is 83.51 hours or 10.4 8-hour nights\n"
     ]
    }
   ],
   "source": [
    "print(\"time required is {0:.2f} hours or {1:.1f} 8-hour nights\".format(total_time/3600., total_time/3600./8.))"
   ]
  }
 ],
 "metadata": {
  "kernelspec": {
   "display_name": "Python 3",
   "language": "python",
   "name": "python3"
  },
  "language_info": {
   "codemirror_mode": {
    "name": "ipython",
    "version": 3
   },
   "file_extension": ".py",
   "mimetype": "text/x-python",
   "name": "python",
   "nbconvert_exporter": "python",
   "pygments_lexer": "ipython3",
   "version": "3.8.6"
  }
 },
 "nbformat": 4,
 "nbformat_minor": 4
}
