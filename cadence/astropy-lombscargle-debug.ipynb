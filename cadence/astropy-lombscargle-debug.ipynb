{
 "cells": [
  {
   "cell_type": "code",
   "execution_count": 1,
   "metadata": {},
   "outputs": [
    {
     "name": "stdout",
     "output_type": "stream",
     "text": [
      "macOS-10.15.4-x86_64-i386-64bit\n",
      "Python 3.8.2 | packaged by conda-forge | (default, Mar 23 2020, 17:55:48) \n",
      "[Clang 9.0.1 ]\n",
      "Numpy 1.18.1\n",
      "astropy 4.0\n",
      "Scipy 1.4.1\n"
     ]
    }
   ],
   "source": [
    "import platform; print(platform.platform())\n",
    "import sys; print(\"Python\", sys.version)\n",
    "import numpy; print(\"Numpy\", numpy.__version__)\n",
    "import astropy; print(\"astropy\", astropy.__version__)\n",
    "import scipy; print(\"Scipy\", scipy.__version__)"
   ]
  },
  {
   "cell_type": "code",
   "execution_count": 2,
   "metadata": {},
   "outputs": [],
   "source": [
    "from astropy.timeseries import LombScargle\n",
    "np.random.seed(42)"
   ]
  },
  {
   "cell_type": "code",
   "execution_count": 3,
   "metadata": {},
   "outputs": [],
   "source": [
    "N = 256\n",
    "xs = np.arange(N) + np.random.normal(0., 0.1, N)"
   ]
  },
  {
   "cell_type": "code",
   "execution_count": 4,
   "metadata": {},
   "outputs": [
    {
     "data": {
      "text/plain": [
       "True"
      ]
     },
     "execution_count": 4,
     "metadata": {},
     "output_type": "execute_result"
    }
   ],
   "source": [
    "ys = np.ones_like(xs) / 180 #* np.random.normal(1., 1e-12, N)\n",
    "#frequency, power = LombScargle(xs, ys).autopower(method='fast')\n",
    "frequency, power = LombScargle(xs, ys, fit_mean=False, center_data=False).autopower(minimum_frequency=0.01,\n",
    "                                                   maximum_frequency=5.,\n",
    "                                                   samples_per_peak=5)\n",
    "np.isfinite(power).any()"
   ]
  },
  {
   "cell_type": "code",
   "execution_count": 5,
   "metadata": {},
   "outputs": [
    {
     "data": {
      "text/plain": [
       "array([0.03054879, 0.0131132 , 0.00032643, ..., 0.03295416, 0.02102986,\n",
       "       0.00990859])"
      ]
     },
     "execution_count": 5,
     "metadata": {},
     "output_type": "execute_result"
    }
   ],
   "source": [
    "power"
   ]
  },
  {
   "cell_type": "code",
   "execution_count": 6,
   "metadata": {},
   "outputs": [
    {
     "data": {
      "image/png": "[encoded data removed]",
      "text/plain": [
       "<Figure size 432x288 with 1 Axes>"
      ]
     },
     "metadata": {
      "needs_background": "light"
     },
     "output_type": "display_data"
    }
   ],
   "source": [
    "plt.plot(frequency,power);"
   ]
  },
  {
   "cell_type": "code",
   "execution_count": null,
   "metadata": {},
   "outputs": [],
   "source": []
  }
 ],
 "metadata": {
  "kernelspec": {
   "display_name": "exoplanet",
   "language": "python",
   "name": "myenv"
  },
  "language_info": {
   "codemirror_mode": {
    "name": "ipython",
    "version": 3
   },
   "file_extension": ".py",
   "mimetype": "text/x-python",
   "name": "python",
   "nbconvert_exporter": "python",
   "pygments_lexer": "ipython3",
   "version": "3.8.2"
  }
 },
 "nbformat": 4,
 "nbformat_minor": 4
}
