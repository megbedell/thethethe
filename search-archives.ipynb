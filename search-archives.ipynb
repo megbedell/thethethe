{
 "cells": [
  {
   "cell_type": "markdown",
   "metadata": {},
   "source": [
    "#### Hacky code to cross-match target lists with the following archive databases & check for duplication:\n",
    "- HERMES cloudy-night bright star program (private communication, Hans Van Winckel)\n",
    "- FIES archive (list available here: http://www.not.iac.es/archive/)"
   ]
  },
  {
   "cell_type": "code",
   "execution_count": 31,
   "metadata": {},
   "outputs": [],
   "source": [
    "import numpy as np\n",
    "import matplotlib.pyplot as plt\n",
    "from astropy import units as u\n",
    "from astropy.coordinates import SkyCoord"
   ]
  },
  {
   "cell_type": "code",
   "execution_count": 32,
   "metadata": {},
   "outputs": [
    {
     "data": {
      "text/plain": [
       "174"
      ]
     },
     "execution_count": 32,
     "metadata": {},
     "output_type": "execute_result"
    }
   ],
   "source": [
    "ollie_targets_later = np.genfromtxt('ollie_proposal_sample.txt', names=['HD', 'HIP', 'starname','RA', 'DEC', 'Gmag', 'BPRP'], \n",
    "                        skip_header=2, dtype=None, encoding=None)\n",
    "ollie_targets_later = ollie_targets_later[ollie_targets_later['BPRP'] > 0.6]\n",
    "coords_ollie_targets_later = SkyCoord(ra=ollie_targets_later['RA']*u.deg, dec=ollie_targets_later['DEC']*u.deg)\n",
    "len(ollie_targets_later)"
   ]
  },
  {
   "cell_type": "code",
   "execution_count": 33,
   "metadata": {},
   "outputs": [],
   "source": [
    "ollie_targets_now = np.genfromtxt('ollie_mercator_sample.txt', names=['Name', 'RA', 'DEC','PMRA', 'PMDEC', 'Gmag'], \n",
    "                        skip_header=20, dtype=None, encoding=None)\n",
    "coords_ollie_targets_now = SkyCoord(ra=ollie_targets_now['RA']*u.deg, dec=ollie_targets_now['DEC']*u.deg)"
   ]
  },
  {
   "cell_type": "code",
   "execution_count": 34,
   "metadata": {},
   "outputs": [],
   "source": [
    "standards = np.genfromtxt('ollie_mercator_sample.txt', names=['Name', 'RA', 'DEC','PMRA', 'PMDEC', 'Gmag'], \n",
    "                        skip_header=7, skip_footer=117, dtype=None, encoding=None)\n",
    "coords_standards = SkyCoord(ra=standards['RA']*u.deg, dec=standards['DEC']*u.deg)"
   ]
  },
  {
   "cell_type": "markdown",
   "metadata": {},
   "source": [
    "#### HERMES cloudy-night program:"
   ]
  },
  {
   "cell_type": "code",
   "execution_count": 35,
   "metadata": {},
   "outputs": [],
   "source": [
    "hans_targets = np.genfromtxt('mercator_p28_selection.csv', names=True, dtype=None, encoding=None, delimiter=',')"
   ]
  },
  {
   "cell_type": "code",
   "execution_count": 36,
   "metadata": {},
   "outputs": [
    {
     "name": "stderr",
     "output_type": "stream",
     "text": [
      "WARNING: IllegalSecondWarning: 'second' was found  to be '60.0', which is not in range [0,60). Treating as 0 sec, +1 min [astropy.coordinates.angle_utilities]\n"
     ]
    }
   ],
   "source": [
    "coords_hans_targets = SkyCoord(hans_targets['ra'], hans_targets['dec'], unit=(u.hourangle, u.deg))"
   ]
  },
  {
   "cell_type": "code",
   "execution_count": 37,
   "metadata": {},
   "outputs": [],
   "source": [
    "from astropy.coordinates import match_coordinates_sky\n",
    "idx, sep2d, dist3d = match_coordinates_sky(coords_ollie_targets_now, coords_hans_targets)"
   ]
  },
  {
   "cell_type": "code",
   "execution_count": 38,
   "metadata": {},
   "outputs": [
    {
     "name": "stdout",
     "output_type": "stream",
     "text": [
      "ollie target name: HD111997; best-match name: HD 111997; brightnesses 7.53, 7.67; sep 0.02 arcmin\n",
      "ollie target name: HD108846; best-match name: HD 108846; brightnesses 7.54, 90.00; sep 0.04 arcmin\n",
      "ollie target name: HD111238; best-match name: HD 111238; brightnesses 7.61, 7.71; sep 0.01 arcmin\n",
      "ollie target name: HIP74674; best-match name: HD 135722; brightnesses 7.66, 3.49; sep 1.76 arcmin\n"
     ]
    }
   ],
   "source": [
    "for i in range(len(ollie_targets_now)):\n",
    "    brightness_diff = ollie_targets_now['Gmag'][i] - hans_targets['Mv'][idx[i]]\n",
    "    if sep2d[i].arcmin < 2:\n",
    "        print('ollie target name: {0}; best-match name: {1}; brightnesses {2:.2f}, {3:.2f}; sep {4:.2f} arcmin'.format(ollie_targets_now['Name'][i], hans_targets['uname'][idx[i]],\n",
    "                                                                                      ollie_targets_now['Gmag'][i], hans_targets['Mv'][idx[i]], sep2d[i].arcmin))"
   ]
  },
  {
   "cell_type": "code",
   "execution_count": 39,
   "metadata": {},
   "outputs": [],
   "source": [
    "idx, sep2d, dist3d = match_coordinates_sky(coords_standards, coords_hans_targets)"
   ]
  },
  {
   "cell_type": "code",
   "execution_count": 40,
   "metadata": {},
   "outputs": [
    {
     "name": "stdout",
     "output_type": "stream",
     "text": [
      "ollie target name: HD10476; best-match name: HD 10476; brightnesses 4.97, 5.24; sep 0.19 arcmin\n",
      "ollie target name: HD101501; best-match name: HD 101501; brightnesses 5.08, 5.34; sep 0.10 arcmin\n",
      "ollie target name: HD10780; best-match name: HD 10780; brightnesses 5.38, 5.63; sep 0.17 arcmin\n",
      "ollie target name: HD4628; best-match name: HD 4628; brightnesses 5.44, 5.74; sep 0.35 arcmin\n"
     ]
    }
   ],
   "source": [
    "for i in range(len(standards)):\n",
    "    if sep2d[i].arcmin < 2:\n",
    "        print('ollie target name: {0}; best-match name: {1}; brightnesses {2:.2f}, {3:.2f}; sep {4:.2f} arcmin'.format(standards['Name'][i], hans_targets['uname'][idx[i]],\n",
    "                                                                                      standards['Gmag'][i], hans_targets['Mv'][idx[i]], sep2d[i].arcmin))"
   ]
  },
  {
   "cell_type": "code",
   "execution_count": 41,
   "metadata": {},
   "outputs": [],
   "source": [
    "idx, sep2d, dist3d = match_coordinates_sky(coords_ollie_targets_later, coords_hans_targets)"
   ]
  },
  {
   "cell_type": "code",
   "execution_count": 42,
   "metadata": {},
   "outputs": [
    {
     "name": "stdout",
     "output_type": "stream",
     "text": [
      "ollie target name: HD211152; best-match name: HD 211152; brightnesses 6.87, 6.99; sep 0.02 arcmin\n",
      "ollie target name: HD11973B; best-match name: HD 11973; brightnesses 7.17, 4.77; sep 0.61 arcmin\n",
      "ollie target name: HD199766C; best-match name: HD 199766; brightnesses 7.20, 90.00; sep 0.12 arcmin\n",
      "ollie target name: HD108807; best-match name: HD 108807; brightnesses 7.75, 7.88; sep 0.01 arcmin\n"
     ]
    }
   ],
   "source": [
    "for i in range(len(ollie_targets_later)):\n",
    "    if sep2d[i].arcmin < 2:\n",
    "        print('ollie target name: {0}; best-match name: {1}; brightnesses {2:.2f}, {3:.2f}; sep {4:.2f} arcmin'.format(ollie_targets_later['HD'][i], hans_targets['uname'][idx[i]],\n",
    "                                                                                      ollie_targets_later['Gmag'][i], hans_targets['Mv'][idx[i]], sep2d[i].arcmin))"
   ]
  },
  {
   "cell_type": "markdown",
   "metadata": {},
   "source": [
    "#### FIES archive:"
   ]
  },
  {
   "cell_type": "code",
   "execution_count": 52,
   "metadata": {},
   "outputs": [],
   "source": [
    "fies_targets = np.genfromtxt('FIES-FITSarchive.2017.txt', names=['DATEOBS', 'EXPTIME', 'FIFMSKNM', 'OBJRA', 'OBJDEC', 'TCSTGT', 'OBJECT', 'REDUCED'], \n",
    "                             dtype=None, encoding=None, skip_header=39, skip_footer=1, \n",
    "                             usecols=(1,2,3,6,7,10,11,14))"
   ]
  },
  {
   "cell_type": "code",
   "execution_count": 53,
   "metadata": {},
   "outputs": [
    {
     "data": {
      "text/plain": [
       "array([('2006-11-10T22:19:49', '1.00', 'F4_MedRes', '300.43958', '57.65167', 'HD190397', '_', 'no'),\n",
       "       ('2006-11-10T22:51:01', '800.00', 'F4_MedRes', '300.43958', '57.65167', 'HD190397', 'V2104Cyg_first', 'no'),\n",
       "       ('2007-06-22T21:31:26', '60.00', 'F1_LowRes', '162.09750', '37.57030', 'SP1045+378', 'SP1045+378', 'no'),\n",
       "       ...,\n",
       "       ('2017-12-31T22:56:22', '600.00', 'F1_LowRes', '40.13192', '61.22931', 'LSI+61303', 'LSI+61303', 'yes'),\n",
       "       ('2017-12-31T23:07:09', '600.00', 'F1_LowRes', '40.13192', '61.22931', 'LSI+61303', 'LSI+61303', 'yes'),\n",
       "       ('2017-12-31T23:17:57', '600.00', 'F1_LowRes', '40.13192', '61.22931', 'LSI+61303', 'LSI+61303', 'yes')],\n",
       "      dtype=[('DATEOBS', '<U21'), ('EXPTIME', '<U7'), ('FIFMSKNM', '<U9'), ('OBJRA', '<U9'), ('OBJDEC', '<U9'), ('TCSTGT', '<U18'), ('OBJECT', '<U22'), ('REDUCED', '<U3')])"
      ]
     },
     "execution_count": 53,
     "metadata": {},
     "output_type": "execute_result"
    }
   ],
   "source": [
    "fies_targets"
   ]
  },
  {
   "cell_type": "code",
   "execution_count": 45,
   "metadata": {},
   "outputs": [],
   "source": [
    "coords_fies_targets = SkyCoord(fies_targets['OBJRA'], fies_targets['OBJDEC'], unit=(u.deg, u.deg))"
   ]
  },
  {
   "cell_type": "code",
   "execution_count": 46,
   "metadata": {},
   "outputs": [],
   "source": [
    "idx, sep2d, dist3d = match_coordinates_sky(coords_ollie_targets_later, coords_fies_targets)"
   ]
  },
  {
   "cell_type": "code",
   "execution_count": 50,
   "metadata": {},
   "outputs": [
    {
     "name": "stdout",
     "output_type": "stream",
     "text": [
      "ollie target name: HD203454; best-match name: HD203454 HD203454; brightness 6.23; sep 0.06 arcmin\n",
      "ollie target name: HD197037; best-match name: HD197037 HD197037; brightness 6.67; sep 0.04 arcmin\n",
      "ollie target name: HD22399; best-match name: D132As9 D132As9; brightness 6.75; sep 0.08 arcmin\n",
      "ollie target name: HD218866; best-match name: HD218866 HD218866; brightness 6.89; sep 0.02 arcmin\n",
      "ollie target name: HD224792; best-match name: HD224792 HD224792; brightness 6.91; sep 0.01 arcmin\n",
      "ollie target name: HD220821; best-match name: HD220821 HD220821; brightness 7.20; sep 0.12 arcmin\n",
      "ollie target name: HD216582; best-match name: 112946 112946; brightness 7.42; sep 0.04 arcmin\n",
      "ollie target name: HD3067A; best-match name: HD3067 HD3067; brightness 7.62; sep 0.00 arcmin\n",
      "ollie target name: HD209102; best-match name: HD209102 HD209102; brightness 7.70; sep 0.02 arcmin\n",
      "ollie target name: HD224459; best-match name: HD224459A HD224459A; brightness 7.72; sep 0.05 arcmin\n",
      "ollie target name: HD8610A; best-match name: D_356_A_s17 D_356_A_s17; brightness 7.90; sep 0.07 arcmin\n",
      "ollie target name: HD3068; best-match name: HD3068 HD3068; brightness 7.95; sep 0.03 arcmin\n",
      "ollie target name: HD193909; best-match name: HD193909 HD193909; brightness 7.96; sep 0.05 arcmin\n",
      "ollie target name: N/A; best-match name: D_331_B_s24 D_331_B_s24; brightness 7.99; sep 0.03 arcmin\n"
     ]
    }
   ],
   "source": [
    "good_idx = []\n",
    "for i in range(len(ollie_targets_later)):\n",
    "    if sep2d[i].arcmin < 2:\n",
    "        print('ollie target name: {0}; best-match name: {1} {2}; brightness {3:.2f}; sep {4:.2f} arcmin'.format(ollie_targets_later['HD'][i], fies_targets['TCSTGT'][idx[i]],\n",
    "                                                                                      fies_targets['OBJECT'][idx[i]], ollie_targets_later['Gmag'][i], sep2d[i].arcmin))\n",
    "        good_idx.append(idx[i])"
   ]
  },
  {
   "cell_type": "code",
   "execution_count": 54,
   "metadata": {},
   "outputs": [
    {
     "data": {
      "text/plain": [
       "array([('2016-08-24T00:57:20', '260.00', 'F4_HiRes', '320.25583', '40.34500', 'HD203454', 'HD203454', 'yes'),\n",
       "       ('2016-08-24T23:40:54', '400.00', 'F4_HiRes', '309.88708', '42.24833', 'HD197037', 'HD197037', 'yes'),\n",
       "       ('2015-09-28T05:39:40', '200.00', 'F4_HiRes', '54.99433', '63.87075', 'D132As9', 'D132As9', 'yes'),\n",
       "       ('2016-08-24T01:50:45', '400.00', 'F4_HiRes', '347.60250', '64.52972', 'HD218866', 'HD218866', 'yes'),\n",
       "       ('2016-08-24T02:11:36', '400.00', 'F4_HiRes', '0.17333', '62.17583', 'HD224792', 'HD224792', 'yes'),\n",
       "       ('2011-11-12T21:03:07.5', '1200.00', 'F4_HiRes', '351.66813', '45.33814', 'HD220821', 'HD220821', 'yes'),\n",
       "       ('2016-09-17T02:15:52', '350.00', 'F4_HiRes', '343.12521', '67.99347', '112946', '112946', 'yes'),\n",
       "       ('2016-08-24T03:44:00', '660.00', 'F4_HiRes', '8.64000', '62.90306', 'HD3067', 'HD3067', 'yes'),\n",
       "       ('2016-08-27T01:18:48', '1000.00', 'F4_HiRes', '329.74167', '60.08389', 'HD209102', 'HD209102', 'yes'),\n",
       "       ('2012-11-15T22:49:34', '900.00', 'F3_MedRes', '359.51612', '24.34100', 'HD224459A', 'HD224459A', 'yes'),\n",
       "       ('2013-02-01T20:45:38', '300.00', 'F4_HiRes', '21.39237', '31.55053', 'D_356_A_s17', 'D_356_A_s17', 'yes'),\n",
       "       ('2016-08-25T03:21:04', '1000.00', 'F4_HiRes', '8.64792', '62.59028', 'HD3068', 'HD3068', 'yes'),\n",
       "       ('2016-08-26T22:58:37', '1000.00', 'F4_HiRes', '305.39833', '34.99972', 'HD193909', 'HD193909', 'yes'),\n",
       "       ('2017-01-14T19:31:39', '300.00', 'F4_HiRes', '359.77833', '41.17053', 'D_331_B_s24', 'D_331_B_s24', 'no')],\n",
       "      dtype=[('DATEOBS', '<U21'), ('EXPTIME', '<U7'), ('FIFMSKNM', '<U9'), ('OBJRA', '<U9'), ('OBJDEC', '<U9'), ('TCSTGT', '<U18'), ('OBJECT', '<U22'), ('REDUCED', '<U3')])"
      ]
     },
     "execution_count": 54,
     "metadata": {},
     "output_type": "execute_result"
    }
   ],
   "source": [
    "fies_targets[good_idx]"
   ]
  },
  {
   "cell_type": "code",
   "execution_count": null,
   "metadata": {},
   "outputs": [],
   "source": []
  }
 ],
 "metadata": {
  "kernelspec": {
   "display_name": "Python 3",
   "language": "python",
   "name": "python3"
  },
  "language_info": {
   "codemirror_mode": {
    "name": "ipython",
    "version": 3
   },
   "file_extension": ".py",
   "mimetype": "text/x-python",
   "name": "python",
   "nbconvert_exporter": "python",
   "pygments_lexer": "ipython3",
   "version": "3.8.6"
  }
 },
 "nbformat": 4,
 "nbformat_minor": 4
}
