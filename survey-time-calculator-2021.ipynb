{
 "cells": [
  {
   "cell_type": "code",
   "execution_count": 1,
   "metadata": {},
   "outputs": [],
   "source": [
    "import numpy as np\n",
    "import matplotlib.pyplot as plt\n",
    "np.random.seed(42)"
   ]
  },
  {
   "cell_type": "code",
   "execution_count": 2,
   "metadata": {},
   "outputs": [],
   "source": [
    "two_epochs = False # if True, observe each target twice; if False, observe once"
   ]
  },
  {
   "cell_type": "code",
   "execution_count": 3,
   "metadata": {},
   "outputs": [],
   "source": [
    "targets = np.genfromtxt('ollie_proposal_sample.txt', names=['HD', 'HIP', 'starname','RA', 'DEC', 'Gmag', 'BPRP'], \n",
    "                        skip_header=2, dtype=None, encoding=None)"
   ]
  },
  {
   "cell_type": "code",
   "execution_count": 4,
   "metadata": {},
   "outputs": [],
   "source": [
    "targets = targets[targets['BPRP'] > 0.6]"
   ]
  },
  {
   "cell_type": "code",
   "execution_count": 20,
   "metadata": {},
   "outputs": [
    {
     "data": {
      "text/plain": [
       "174"
      ]
     },
     "execution_count": 20,
     "metadata": {},
     "output_type": "execute_result"
    }
   ],
   "source": [
    "len(targets)"
   ]
  },
  {
   "cell_type": "code",
   "execution_count": 5,
   "metadata": {},
   "outputs": [
    {
     "data": {
      "image/png": "[encoded data removed]",
      "text/plain": [
       "<Figure size 432x288 with 1 Axes>"
      ]
     },
     "metadata": {
      "needs_background": "light"
     },
     "output_type": "display_data"
    }
   ],
   "source": [
    "plt.hist(targets['DEC'], bins=20)\n",
    "plt.xlabel('Dec');"
   ]
  },
  {
   "cell_type": "code",
   "execution_count": 6,
   "metadata": {},
   "outputs": [
    {
     "data": {
      "image/png": "[encoded data removed]",
      "text/plain": [
       "<Figure size 432x288 with 1 Axes>"
      ]
     },
     "metadata": {
      "needs_background": "light"
     },
     "output_type": "display_data"
    }
   ],
   "source": [
    "plt.hist(targets['RA'], bins=20)\n",
    "plt.xlabel('RA');"
   ]
  },
  {
   "cell_type": "markdown",
   "metadata": {},
   "source": [
    "Distribution is fairly even so I'm going to ignore semester constraints right now."
   ]
  },
  {
   "cell_type": "code",
   "execution_count": 7,
   "metadata": {},
   "outputs": [],
   "source": [
    "vmags = targets['Gmag'] + 0.5 # this is a hack but Annelies's detailed comparison validates it"
   ]
  },
  {
   "cell_type": "code",
   "execution_count": 8,
   "metadata": {},
   "outputs": [
    {
     "data": {
      "image/png": "[encoded data removed]",
      "text/plain": [
       "<Figure size 432x288 with 1 Axes>"
      ]
     },
     "metadata": {
      "needs_background": "light"
     },
     "output_type": "display_data"
    }
   ],
   "source": [
    "plt.hist(vmags, bins=20)\n",
    "plt.xlabel('V mag');"
   ]
  },
  {
   "cell_type": "markdown",
   "metadata": {},
   "source": [
    "Calculate a scaling factor on the exposure time.\n",
    "We use the fact that the flux of a star with magnitude $V = 8$ compared to a star of magnitude $m_V$ is a factor of $10^{0.4(m_V - 8)}$ brighter:"
   ]
  },
  {
   "cell_type": "code",
   "execution_count": 9,
   "metadata": {},
   "outputs": [
    {
     "data": {
      "image/png": "[encoded data removed]",
      "text/plain": [
       "<Figure size 432x288 with 1 Axes>"
      ]
     },
     "metadata": {
      "needs_background": "light"
     },
     "output_type": "display_data"
    }
   ],
   "source": [
    "flux_scaling = 10.**(0.4 * (vmags - 8.0))\n",
    "plt.hist(flux_scaling, bins=20);"
   ]
  },
  {
   "cell_type": "markdown",
   "metadata": {},
   "source": [
    "Plus the standard stars to be observed by all instruments (these are selected to be bright so they'll be quick):"
   ]
  },
  {
   "cell_type": "code",
   "execution_count": 10,
   "metadata": {},
   "outputs": [],
   "source": [
    "standards = np.genfromtxt('gaia-brewer-overlap-standards.csv', delimiter=',', names=True, dtype=None, encoding=None)"
   ]
  },
  {
   "cell_type": "code",
   "execution_count": 11,
   "metadata": {},
   "outputs": [
    {
     "data": {
      "text/plain": [
       "array([4.9697, 5.0824, 5.1628, 5.1759, 5.1797, 5.3678, 5.3827, 5.4294,\n",
       "       5.4415, 5.4796])"
      ]
     },
     "execution_count": 11,
     "metadata": {},
     "output_type": "execute_result"
    }
   ],
   "source": [
    "standards['Gmag']"
   ]
  },
  {
   "cell_type": "code",
   "execution_count": 12,
   "metadata": {},
   "outputs": [],
   "source": [
    "flux_scaling_standards = 10.**(0.4 * (standards['Gmag'] + 0.5 - 8.0))"
   ]
  },
  {
   "cell_type": "code",
   "execution_count": 13,
   "metadata": {},
   "outputs": [
    {
     "data": {
      "image/png": "[encoded data removed]",
      "text/plain": [
       "<Figure size 432x288 with 1 Axes>"
      ]
     },
     "metadata": {
      "needs_background": "light"
     },
     "output_type": "display_data"
    }
   ],
   "source": [
    "flux_scaling = 10.**(0.4 * (vmags - 8.0))\n",
    "plt.hist(flux_scaling, bins=20, alpha=0.8)\n",
    "plt.hist(flux_scaling_standards, bins=2, alpha=0.8);"
   ]
  },
  {
   "cell_type": "markdown",
   "metadata": {},
   "source": [
    "#### FIES time:"
   ]
  },
  {
   "cell_type": "markdown",
   "metadata": {},
   "source": [
    "Select a randomized subset of 1/3rd of the target list:"
   ]
  },
  {
   "cell_type": "code",
   "execution_count": 14,
   "metadata": {},
   "outputs": [],
   "source": [
    "np.random.shuffle(flux_scaling)\n",
    "N = len(targets)\n",
    "subset = flux_scaling[0:int(N/3)]"
   ]
  },
  {
   "cell_type": "code",
   "execution_count": 15,
   "metadata": {},
   "outputs": [],
   "source": [
    "if two_epochs:\n",
    "    subset = np.append(subset, subset) # we want two observations per star so double the list\n",
    "subset = np.append(subset, flux_scaling_standards) # just one obs of each standard star"
   ]
  },
  {
   "cell_type": "markdown",
   "metadata": {},
   "source": [
    "Calculate the required integration time:"
   ]
  },
  {
   "cell_type": "code",
   "execution_count": 16,
   "metadata": {},
   "outputs": [],
   "source": [
    "v8_exptime = 30. * 60. # seconds to get to SNR ~ 200 at 600nm for V=8\n",
    "total_exptime = np.sum(v8_exptime * subset)"
   ]
  },
  {
   "cell_type": "markdown",
   "metadata": {},
   "source": [
    "Add on overheads for readout + slew:"
   ]
  },
  {
   "cell_type": "code",
   "execution_count": 17,
   "metadata": {},
   "outputs": [],
   "source": [
    "readout_time = 90.\n",
    "slew_time = 120. # ???\n",
    "total_time = total_exptime + len(subset) * (readout_time + slew_time)"
   ]
  },
  {
   "cell_type": "code",
   "execution_count": 18,
   "metadata": {},
   "outputs": [
    {
     "name": "stdout",
     "output_type": "stream",
     "text": [
      "time required is 39.18 hours or 4.9 8-hour nights\n"
     ]
    }
   ],
   "source": [
    "print(\"time required is {0:.2f} hours or {1:.1f} 8-hour nights\".format(total_time/3600., total_time/3600./8.))"
   ]
  },
  {
   "cell_type": "markdown",
   "metadata": {},
   "source": [
    "#### HARPS-N time:"
   ]
  },
  {
   "cell_type": "code",
   "execution_count": 21,
   "metadata": {},
   "outputs": [],
   "source": [
    "subset = flux_scaling[int(N/3):2*int(N/3)]\n",
    "if two_epochs:\n",
    "    subset = np.append(subset, subset) # we want two observations per star so double the list\n",
    "subset = np.append(subset, flux_scaling_standards) # just one obs of each standard star"
   ]
  },
  {
   "cell_type": "code",
   "execution_count": 22,
   "metadata": {},
   "outputs": [],
   "source": [
    "v8_exptime = 15. * 60. # seconds to get to SNR ~ 200 at 600nm for V=8\n",
    "total_exptime = np.sum(v8_exptime * subset)"
   ]
  },
  {
   "cell_type": "code",
   "execution_count": 23,
   "metadata": {},
   "outputs": [],
   "source": [
    "readout_time = 150.\n",
    "slew_time = 120. # ???\n",
    "total_time = total_exptime + len(subset) * (readout_time + slew_time)"
   ]
  },
  {
   "cell_type": "code",
   "execution_count": 24,
   "metadata": {},
   "outputs": [
    {
     "name": "stdout",
     "output_type": "stream",
     "text": [
      "time required is 22.76 hours or 2.8 8-hour nights\n"
     ]
    }
   ],
   "source": [
    "print(\"time required is {0:.2f} hours or {1:.1f} 8-hour nights\".format(total_time/3600., total_time/3600./8.))"
   ]
  },
  {
   "cell_type": "markdown",
   "metadata": {},
   "source": [
    "#### HERMES time:"
   ]
  },
  {
   "cell_type": "markdown",
   "metadata": {},
   "source": [
    "(Note that due to rounding in the 1/3rd sample, HERMES might get 1-2 more targets than the other spectrographs)"
   ]
  },
  {
   "cell_type": "code",
   "execution_count": 25,
   "metadata": {},
   "outputs": [],
   "source": [
    "subset = flux_scaling[2*int(N/3):]\n",
    "if two_epochs:\n",
    "    subset = np.append(subset, subset) # we want two observations per star so double the list\n",
    "subset = np.append(subset, flux_scaling_standards) # just one obs of each standard star"
   ]
  },
  {
   "cell_type": "code",
   "execution_count": 26,
   "metadata": {},
   "outputs": [],
   "source": [
    "v8_exptime = 25. * 60. # seconds to get to SNR ~ 200 at 600nm for V=8\n",
    "total_exptime = np.sum(v8_exptime * subset)"
   ]
  },
  {
   "cell_type": "code",
   "execution_count": 27,
   "metadata": {},
   "outputs": [],
   "source": [
    "readout_time = 150. # CHECK THIS\n",
    "slew_time = 120. # ???\n",
    "total_time = total_exptime + len(subset) * (readout_time + slew_time)"
   ]
  },
  {
   "cell_type": "code",
   "execution_count": 28,
   "metadata": {},
   "outputs": [
    {
     "name": "stdout",
     "output_type": "stream",
     "text": [
      "time required is 34.97 hours or 4.4 8-hour nights\n"
     ]
    }
   ],
   "source": [
    "print(\"time required is {0:.2f} hours or {1:.1f} 8-hour nights\".format(total_time/3600., total_time/3600./8.))"
   ]
  },
  {
   "cell_type": "markdown",
   "metadata": {},
   "source": [
    "We should *round up* on HERMES time because it needs middle-of-night calibrations (advised by instrument team)."
   ]
  },
  {
   "cell_type": "markdown",
   "metadata": {},
   "source": [
    "##### Note: you can double-check the stability of the calculations by re-running all cells from the \"FIES time\" section down. This will shuffle the targets to different instruments.\n",
    "The conclusions remain quite stable to within an hour or two."
   ]
  },
  {
   "cell_type": "markdown",
   "metadata": {},
   "source": [
    "#### HIRES:"
   ]
  },
  {
   "cell_type": "code",
   "execution_count": 26,
   "metadata": {},
   "outputs": [
    {
     "data": {
      "image/png": "[encoded data removed]",
      "text/plain": [
       "<Figure size 432x288 with 1 Axes>"
      ]
     },
     "metadata": {
      "needs_background": "light"
     },
     "output_type": "display_data"
    }
   ],
   "source": [
    "plt.hist(targets['DEC']);"
   ]
  },
  {
   "cell_type": "code",
   "execution_count": 27,
   "metadata": {},
   "outputs": [],
   "source": [
    "subset = flux_scaling[(targets['DEC'] >= 15.) & (targets['DEC'] <= 60.)]"
   ]
  },
  {
   "cell_type": "code",
   "execution_count": 28,
   "metadata": {},
   "outputs": [],
   "source": [
    "if two_epochs:\n",
    "    subset = np.append(subset, subset) # we want two observations per star so double the list\n",
    "subset = np.append(subset, flux_scaling_standards) # just one obs of each standard star"
   ]
  },
  {
   "cell_type": "code",
   "execution_count": 29,
   "metadata": {},
   "outputs": [],
   "source": [
    "v8_exptime = 10. * 60. # seconds to get to SNR ~ 200 at 600nm for V=8 - CHECK THIS\n",
    "total_exptime = np.sum(v8_exptime * subset)"
   ]
  },
  {
   "cell_type": "code",
   "execution_count": 30,
   "metadata": {},
   "outputs": [],
   "source": [
    "readout_time = 150. # CHECK THIS\n",
    "slew_time = 120. # ???\n",
    "total_time = total_exptime + len(subset) * (readout_time + slew_time)"
   ]
  },
  {
   "cell_type": "code",
   "execution_count": 31,
   "metadata": {},
   "outputs": [
    {
     "name": "stdout",
     "output_type": "stream",
     "text": [
      "time required is 44.12 hours or 5.5 8-hour nights\n"
     ]
    }
   ],
   "source": [
    "print(\"time required is {0:.2f} hours or {1:.1f} 8-hour nights\".format(total_time/3600., total_time/3600./8.))"
   ]
  },
  {
   "cell_type": "markdown",
   "metadata": {},
   "source": [
    "can this be done in full-night increments?"
   ]
  },
  {
   "cell_type": "markdown",
   "metadata": {},
   "source": [
    "### HERMES Spanish time sample:"
   ]
  },
  {
   "cell_type": "code",
   "execution_count": 32,
   "metadata": {},
   "outputs": [],
   "source": [
    "targets2 = np.genfromtxt('ollie_mercator_sample.txt', names=['Name', 'RA', 'DEC','PMRA', 'PMDEC', 'Gmag'], \n",
    "                        skip_header=20, dtype=None, encoding=None)"
   ]
  },
  {
   "cell_type": "code",
   "execution_count": 33,
   "metadata": {},
   "outputs": [],
   "source": [
    "standards2 = np.genfromtxt('ollie_mercator_sample.txt', names=['HD', 'HIP', 'starname','RA', 'DEC', 'Gmag', 'BPRP'], \n",
    "                        skip_header=7, skip_footer=117, dtype=None, encoding=None)"
   ]
  },
  {
   "cell_type": "code",
   "execution_count": 34,
   "metadata": {},
   "outputs": [],
   "source": [
    "vmags2 = targets2['Gmag'] + 0.5 # this is a hack but Annelies's detailed comparison validates it\n",
    "vmags2 = np.append(vmags2, standards['Gmag'] + 0.5)"
   ]
  },
  {
   "cell_type": "code",
   "execution_count": 35,
   "metadata": {},
   "outputs": [
    {
     "data": {
      "image/png": "[encoded data removed]",
      "text/plain": [
       "<Figure size 432x288 with 1 Axes>"
      ]
     },
     "metadata": {
      "needs_background": "light"
     },
     "output_type": "display_data"
    }
   ],
   "source": [
    "flux_scaling2 = 10.**(0.4 * (vmags2 - 8.0))\n",
    "plt.hist(flux_scaling2, bins=20);"
   ]
  },
  {
   "cell_type": "code",
   "execution_count": 36,
   "metadata": {},
   "outputs": [],
   "source": [
    "v8_exptime = 25. * 60. # seconds to get to SNR ~ 200 at 600nm for V=8\n",
    "total_exptime = np.sum(v8_exptime * flux_scaling2)"
   ]
  },
  {
   "cell_type": "code",
   "execution_count": 37,
   "metadata": {},
   "outputs": [],
   "source": [
    "readout_time = 150. # CHECK THIS\n",
    "slew_time = 120. # ???\n",
    "total_time = total_exptime + len(targets2) * (readout_time + slew_time)"
   ]
  },
  {
   "cell_type": "code",
   "execution_count": 38,
   "metadata": {},
   "outputs": [
    {
     "name": "stdout",
     "output_type": "stream",
     "text": [
      "time required is 52.60 hours or 6.6 8-hour nights\n"
     ]
    }
   ],
   "source": [
    "print(\"time required is {0:.2f} hours or {1:.1f} 8-hour nights\".format(total_time/3600., total_time/3600./8.))"
   ]
  },
  {
   "cell_type": "code",
   "execution_count": null,
   "metadata": {},
   "outputs": [],
   "source": []
  }
 ],
 "metadata": {
  "kernelspec": {
   "display_name": "Python 3",
   "language": "python",
   "name": "python3"
  },
  "language_info": {
   "codemirror_mode": {
    "name": "ipython",
    "version": 3
   },
   "file_extension": ".py",
   "mimetype": "text/x-python",
   "name": "python",
   "nbconvert_exporter": "python",
   "pygments_lexer": "ipython3",
   "version": "3.8.6"
  }
 },
 "nbformat": 4,
 "nbformat_minor": 4
}
